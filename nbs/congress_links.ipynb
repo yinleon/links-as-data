{
 "cells": [
  {
   "cell_type": "code",
   "execution_count": 1,
   "metadata": {},
   "outputs": [],
   "source": [
    "import sys\n",
    "sys.path.append('../')"
   ]
  },
  {
   "cell_type": "markdown",
   "metadata": {},
   "source": [
    "# Tools for Link Analysis: urlExpander\n",
    "This notebook will walk through using links as data\n",
    "1. What kind of link data does Twitter provide?\n",
    "2. How to extract link data from Tweets\n",
    "3. Processing data by expanding shortened URLs\n",
    "4. Unsupervised techniques\n",
    "5. Supervised techniques\n",
    "\n",
    "Software for this tutorial is found in this `requirements.txt` file."
   ]
  },
  {
   "cell_type": "code",
   "execution_count": 2,
   "metadata": {},
   "outputs": [],
   "source": [
    "import os\n",
    "import json\n",
    "import glob\n",
    "import itertools\n",
    "from multiprocessing import Pool\n",
    "\n",
    "from tqdm import tqdm\n",
    "import pandas as pd\n",
    "import urlexpander\n",
    "from smappdragon import JsonCollection"
   ]
  },
  {
   "cell_type": "code",
   "execution_count": 3,
   "metadata": {},
   "outputs": [
    {
     "data": {
      "text/plain": [
       "1950"
      ]
     },
     "execution_count": 3,
     "metadata": {},
     "output_type": "execute_result"
    }
   ],
   "source": [
    "data_directory = '/scratch/olympus/projects/mediascore/Data/json_standardized'\n",
    "intermedia_directory = f'{data_directory}/processed_data/'\n",
    "files = glob.glob(f'{data_directory}/*.json.bz2')\n",
    "len(files)"
   ]
  },
  {
   "cell_type": "code",
   "execution_count": 4,
   "metadata": {},
   "outputs": [
    {
     "data": {
      "text/plain": [
       "'/scratch/olympus/projects/mediascore/Data/json_standardized/305620929__2018-04.json.bz2'"
      ]
     },
     "execution_count": 4,
     "metadata": {},
     "output_type": "execute_result"
    }
   ],
   "source": [
    "f = files[0]\n",
    "f"
   ]
  },
  {
   "cell_type": "code",
   "execution_count": 5,
   "metadata": {},
   "outputs": [],
   "source": [
    "collect = JsonCollection(f, compression='bz2', throw_error=False, verbose=1)"
   ]
  },
  {
   "cell_type": "code",
   "execution_count": 6,
   "metadata": {},
   "outputs": [
    {
     "data": {
      "text/plain": [
       "<smappdragon.collection.json_collection.JsonCollection at 0x2b738986ba90>"
      ]
     },
     "execution_count": 6,
     "metadata": {},
     "output_type": "execute_result"
    }
   ],
   "source": [
    "collect"
   ]
  },
  {
   "cell_type": "code",
   "execution_count": 7,
   "metadata": {},
   "outputs": [],
   "source": [
    "for row in collect.get_iterator():\n",
    "    break"
   ]
  },
  {
   "cell_type": "markdown",
   "metadata": {},
   "source": [
    "Link [here](https://bit.ly/tweet_anatomy_link)"
   ]
  },
  {
   "cell_type": "code",
   "execution_count": 8,
   "metadata": {},
   "outputs": [],
   "source": [
    "#print(json.dumps(row, indent=2))"
   ]
  },
  {
   "cell_type": "markdown",
   "metadata": {},
   "source": [
    "## How do we get the links?"
   ]
  },
  {
   "cell_type": "code",
   "execution_count": 9,
   "metadata": {},
   "outputs": [
    {
     "data": {
      "text/plain": [
       "\u001b[0;31mSignature:\u001b[0m \u001b[0murlexpander\u001b[0m\u001b[0;34m.\u001b[0m\u001b[0mtweet_utils\u001b[0m\u001b[0;34m.\u001b[0m\u001b[0mget_link\u001b[0m\u001b[0;34m(\u001b[0m\u001b[0mtweet\u001b[0m\u001b[0;34m)\u001b[0m\u001b[0;34m\u001b[0m\u001b[0m\n",
       "\u001b[0;31mDocstring:\u001b[0m\n",
       "Returns a generator containing tweet metadata about media.\n",
       "\n",
       "The metadata dict contains the following columns:\n",
       "\n",
       "columns = {\n",
       "  'link_domain' : 'the domain of the URL', \n",
       "  'link_url_long' : 'the URL (this can be short!)', \n",
       "  'link_url_short' : 'The t.co URL', \n",
       "  'tweet_created_at' : 'When the tweet was created', \n",
       "  'tweet_id' : 'The ID of the tweet', \n",
       "  'tweet_text' : 'The Full text of the tweet', \n",
       "  'user_id' : 'The Twitter ID of the tweeter'\n",
       "}\n",
       "\n",
       ":input tweet: a nested dictionary of a Tweet either from the streaming or search API.\n",
       ":returns: a generator of dictionaries\n",
       "\u001b[0;31mFile:\u001b[0m      ~/smapprepos/urlExpander/urlexpander/core/tweet_utils.py\n",
       "\u001b[0;31mType:\u001b[0m      function\n"
      ]
     },
     "metadata": {},
     "output_type": "display_data"
    }
   ],
   "source": [
    "?urlexpander.tweet_utils.get_link()"
   ]
  },
  {
   "cell_type": "code",
   "execution_count": 10,
   "metadata": {},
   "outputs": [
    {
     "data": {
      "text/plain": [
       "<generator object get_link at 0x2b73d84ac6d0>"
      ]
     },
     "execution_count": 10,
     "metadata": {},
     "output_type": "execute_result"
    }
   ],
   "source": [
    "# returns a genrator, which is uninterpretable!\n",
    "urlexpander.tweet_utils.get_link(row)"
   ]
  },
  {
   "cell_type": "code",
   "execution_count": 11,
   "metadata": {},
   "outputs": [
    {
     "name": "stdout",
     "output_type": "stream",
     "text": [
      "{'user_id': 305620929, 'tweet_id': 979414089654067200, 'tweet_created_at': 'Thu Mar 29 17:44:50 +0000 2018', 'tweet_text': None, 'link_url_long': 'https://twitter.com/thecyberwire/status/978772832317595650', 'link_domain': 'twitter.com', 'link_url_short': 'https://t.co/OSbgC94qVw'}\n"
     ]
    }
   ],
   "source": [
    "# we can access the data by iterating through it.\n",
    "for link_meta in urlexpander.tweet_utils.get_link(row):\n",
    "    print(link_meta)"
   ]
  },
  {
   "cell_type": "code",
   "execution_count": 12,
   "metadata": {},
   "outputs": [
    {
     "data": {
      "text/plain": [
       "[{'user_id': 305620929,\n",
       "  'tweet_id': 979414089654067200,\n",
       "  'tweet_created_at': 'Thu Mar 29 17:44:50 +0000 2018',\n",
       "  'tweet_text': None,\n",
       "  'link_url_long': 'https://twitter.com/thecyberwire/status/978772832317595650',\n",
       "  'link_domain': 'twitter.com',\n",
       "  'link_url_short': 'https://t.co/OSbgC94qVw'}]"
      ]
     },
     "execution_count": 12,
     "metadata": {},
     "output_type": "execute_result"
    }
   ],
   "source": [
    "# to unwrap this we'll do this mess of cose\n",
    "list(itertools.chain.from_iterable([urlexpander.tweet_utils.get_link(row)]))"
   ]
  },
  {
   "cell_type": "markdown",
   "metadata": {},
   "source": [
    "## this is one way of doing this:"
   ]
  },
  {
   "cell_type": "code",
   "execution_count": 13,
   "metadata": {},
   "outputs": [
    {
     "name": "stderr",
     "output_type": "stream",
     "text": [
      "100%|██████████| 2/2 [00:00<00:00,  2.23it/s]\n"
     ]
    }
   ],
   "source": [
    "data = []\n",
    "for f in tqdm(files[:2]):\n",
    "    # read the json file into a generator\n",
    "    collection = JsonCollection(f, compression='bz2', throw_error=False)\n",
    "    \n",
    "    # iterate through the json file, extract links, flatten the generator of links\n",
    "    # into a list, and store into a Pandas dataframe\n",
    "    df_ = pd.DataFrame(list(\n",
    "            itertools.chain.from_iterable(\n",
    "                [urlexpander.tweet_utils.get_link(t) \n",
    "                 for t in collection.get_iterator() \n",
    "                 if t]\n",
    "            ))\n",
    "    )\n",
    "    df_['file'] = f\n",
    "    data.extend(df_.to_dict(orient='records'))"
   ]
  },
  {
   "cell_type": "markdown",
   "metadata": {},
   "source": [
    "## But with many files it is slow, so here's a faster paralellized way:"
   ]
  },
  {
   "cell_type": "code",
   "execution_count": 14,
   "metadata": {},
   "outputs": [],
   "source": [
    "def read_file_extract_links(f):\n",
    "    '''\n",
    "    This function takes in a Tweet file that bzip2-compressed, \n",
    "    newline-deliminted json, and returns a list of dictionaries\n",
    "    for link data.\n",
    "    '''\n",
    "    # read the json file into a generator\n",
    "    collection = JsonCollection(f, compression='bz2', throw_error=False)\n",
    "    \n",
    "    # iterate through the json file, extract links, flatten the generator of links\n",
    "    # into a list, and store into a Pandas dataframe\n",
    "    df_ = pd.DataFrame(list(\n",
    "            itertools.chain.from_iterable(\n",
    "                [urlexpander.tweet_utils.get_link(t) \n",
    "                 for t in collection.get_iterator() \n",
    "                 if t]\n",
    "            )))\n",
    "    df_['file'] = f\n",
    "    return df_.to_dict(orient='records')"
   ]
  },
  {
   "cell_type": "code",
   "execution_count": 15,
   "metadata": {},
   "outputs": [
    {
     "name": "stderr",
     "output_type": "stream",
     "text": [
      "100%|██████████| 1950/1950 [07:29<00:00,  4.33it/s]\n"
     ]
    },
    {
     "name": "stdout",
     "output_type": "stream",
     "text": [
      "1700150\n"
     ]
    }
   ],
   "source": [
    "data = []\n",
    "with Pool(24) as pool:\n",
    "    iterable = pool.imap_unordered(read_file_extract_links, files)\n",
    "    for link_data in tqdm(iterable, total=len(files)):\n",
    "        data.extend(link_data)\n",
    "print(len(data))"
   ]
  },
  {
   "cell_type": "code",
   "execution_count": 16,
   "metadata": {},
   "outputs": [
    {
     "data": {
      "text/plain": [
       "{'link_domain': 'facebook.com',\n",
       " 'link_url_long': 'https://www.facebook.com/reprussell/posts/2009552275739610?comment_id=2009566382404866&notif_id=1521057100532804&notif_t=feed_comment&ref=notif',\n",
       " 'link_url_short': 'https://t.co/wBvPlvpxyi',\n",
       " 'tweet_created_at': 'Wed Mar 14 19:59:00 +0000 2018',\n",
       " 'tweet_id': 974012037499154433,\n",
       " 'tweet_text': None,\n",
       " 'user_id': 2966758114,\n",
       " 'file': '/scratch/olympus/projects/mediascore/Data/json_standardized/2966758114__2018-03.json.bz2'}"
      ]
     },
     "execution_count": 16,
     "metadata": {},
     "output_type": "execute_result"
    }
   ],
   "source": [
    "data[2]"
   ]
  },
  {
   "cell_type": "code",
   "execution_count": 17,
   "metadata": {},
   "outputs": [
    {
     "data": {
      "text/plain": [
       "1700150"
      ]
     },
     "execution_count": 17,
     "metadata": {},
     "output_type": "execute_result"
    }
   ],
   "source": [
    "df_links = pd.DataFrame(data)"
   ]
  },
  {
   "cell_type": "code",
   "execution_count": 18,
   "metadata": {},
   "outputs": [],
   "source": [
    "df_links.to_csv(os.path.join(intermedia_directory, 'links_raw.csv'), index=False)\n",
    "df_links = pd.read_csv(os.path.join(intermedia_directory, 'links_raw.csv'))"
   ]
  },
  {
   "cell_type": "code",
   "execution_count": 251,
   "metadata": {},
   "outputs": [
    {
     "data": {
      "text/plain": [
       "['http://goo.gl/kDUwP',\n",
       " 'http://bit.ly/12clU3p',\n",
       " 'http://nyti.ms/Z4rdlU',\n",
       " 'http://goo.gl/LxkrY',\n",
       " 'http://www.huffingtonpost.com/rep-diana-degette/reducing-gun-violence-mea_b_3018506.html']"
      ]
     },
     "execution_count": 251,
     "metadata": {},
     "output_type": "execute_result"
    }
   ],
   "source": [
    "links = df_links['link_url_long'].tolist()\n",
    "links[-5:]"
   ]
  },
  {
   "cell_type": "code",
   "execution_count": 258,
   "metadata": {},
   "outputs": [
    {
     "name": "stderr",
     "output_type": "stream",
     "text": [
      "100%|██████████| 1/1 [00:00<00:00, 17.14it/s]"
     ]
    },
    {
     "name": "stdout",
     "output_type": "stream",
     "text": [
      "There are 1 links to unshorten\n"
     ]
    },
    {
     "name": "stderr",
     "output_type": "stream",
     "text": [
      "\n"
     ]
    },
    {
     "data": {
      "text/plain": [
       "['https://www.huffingtonpost.com/rep-diana-degette/reducing-gun-violence-mea_b_3018506.html']"
      ]
     },
     "execution_count": 258,
     "metadata": {},
     "output_type": "execute_result"
    }
   ],
   "source": [
    "url =  'http://www.huffingtonpost.com/rep-diana-degette/reducing-gun-violence-mea_b_3018506.html'\n",
    "urlexpander.expand([url], verbose=2)"
   ]
  },
  {
   "cell_type": "code",
   "execution_count": 252,
   "metadata": {},
   "outputs": [
    {
     "data": {
      "text/plain": [
       "'https://degette.house.gov/index.php?option=com_content&view=article&id=1260:congressional-lgbt-equality-caucus-praises-re-introduction-of-employment-non-discrimination-act&catid=76:press-releases-&Itemid=227'"
      ]
     },
     "execution_count": 252,
     "metadata": {},
     "output_type": "execute_result"
    }
   ],
   "source": [
    "urlexpander.expand(links[-5])"
   ]
  },
  {
   "cell_type": "code",
   "execution_count": 253,
   "metadata": {},
   "outputs": [
    {
     "data": {
      "text/plain": [
       "['https://degette.house.gov/index.php?option=com_content&view=article&id=1260:congressional-lgbt-equality-caucus-praises-re-introduction-of-employment-non-discrimination-act&catid=76:press-releases-&Itemid=227',\n",
       " 'http://www.rollcall.com/news/house_hydro_bill_tests_water_for_broad_energy_deals-224277-1.html',\n",
       " 'https://www.nytimes.com/2013/04/18/opinion/a-senate-in-the-gun-lobbys-grip.html?smid=tw-share',\n",
       " 'http://www.civiccenterconservancy.org/history-2012-nhl-designation_25.html',\n",
       " 'http://huffingtonpost.com/__CLIENT_ERROR__']"
      ]
     },
     "execution_count": 253,
     "metadata": {},
     "output_type": "execute_result"
    }
   ],
   "source": [
    "urlexpander.expand(links[-5:])"
   ]
  },
  {
   "cell_type": "markdown",
   "metadata": {},
   "source": [
    "## What's happening behind the scenes? \n",
    "['abc.com/123', 'bbc.co.uk/123', 'abc.com/123', 'bit.ly/cbc23']<br>\n",
    "--> Remove duplicates<br>\n",
    " ['abc.com/123', 'bbc.co.uk/123', 'bit.ly/cbc23']<br>\n",
    "--> Filter for shortened URLs<br>\n",
    "['bit.ly/cbs23']<br>\n",
    "--> unshorten<br>\n",
    "[{'original_url': 'bit.ly/cbs23', 'resolved' : 'cspan.com/123'}]<br>\n",
    "--> join back in<br>\n",
    "['abc.com/123', 'bbc.co.uk/123', 'abc.com/123', 'cspan.com/123']<br>"
   ]
  },
  {
   "cell_type": "code",
   "execution_count": 22,
   "metadata": {},
   "outputs": [
    {
     "data": {
      "text/plain": [
       "\u001b[0;31mSignature:\u001b[0m \u001b[0murlexpander\u001b[0m\u001b[0;34m.\u001b[0m\u001b[0mexpand\u001b[0m\u001b[0;34m(\u001b[0m\u001b[0mlinks_to_unshorten\u001b[0m\u001b[0;34m,\u001b[0m \u001b[0mchunksize\u001b[0m\u001b[0;34m=\u001b[0m\u001b[0;36m1280\u001b[0m\u001b[0;34m,\u001b[0m \u001b[0mn_workers\u001b[0m\u001b[0;34m=\u001b[0m\u001b[0;36m1\u001b[0m\u001b[0;34m,\u001b[0m \u001b[0mcache_file\u001b[0m\u001b[0;34m=\u001b[0m\u001b[0;32mNone\u001b[0m\u001b[0;34m,\u001b[0m \u001b[0mrandom_seed\u001b[0m\u001b[0;34m=\u001b[0m\u001b[0;36m303\u001b[0m\u001b[0;34m,\u001b[0m \u001b[0mverbose\u001b[0m\u001b[0;34m=\u001b[0m\u001b[0;36m0\u001b[0m\u001b[0;34m,\u001b[0m \u001b[0mfilter_function\u001b[0m\u001b[0;34m=\u001b[0m\u001b[0;32mNone\u001b[0m\u001b[0;34m,\u001b[0m \u001b[0;34m**\u001b[0m\u001b[0mkwargs\u001b[0m\u001b[0;34m)\u001b[0m\u001b[0;34m\u001b[0m\u001b[0m\n",
       "\u001b[0;31mDocstring:\u001b[0m\n",
       "Calls expand with multiple (``n_workers``) threads to unshorten a list of urls. Unshortens all urls by default, unless one sets a ``filter_function``.\n",
       "\n",
       ":param links_to_unshorten: (list, str) either an idividual or list (str) of urls to unshorten\n",
       ":param chunksize: (int) chunks links_to_unshorten, which makes computation quicker with larger inputs\n",
       ":param n_workers: (int) how many threads\n",
       ":param cache_file: (str) a path to a json file to read and write results in\n",
       ":param random_seed: (int) initializes the random state for shuffling the input\n",
       ":param verbose: (int) whether to print updates and errors. 0 is silent. 1 is progress bar. 2 is progress bar and errors.\n",
       ":param filter_function: (func) a boolean used to filter url shorteners out\n",
       "    \n",
       "\n",
       ":returns: (list) a list of resolved urls\n",
       "\u001b[0;31mFile:\u001b[0m      ~/smapprepos/urlExpander/urlexpander/core/api.py\n",
       "\u001b[0;31mType:\u001b[0m      function\n"
      ]
     },
     "metadata": {},
     "output_type": "display_data"
    }
   ],
   "source": [
    "?urlexpander.expand()"
   ]
  },
  {
   "cell_type": "code",
   "execution_count": null,
   "metadata": {},
   "outputs": [
    {
     "name": "stderr",
     "output_type": "stream",
     "text": [
      "  0%|          | 0/381 [00:00<?, ?it/s]"
     ]
    },
    {
     "name": "stdout",
     "output_type": "stream",
     "text": [
      "There are 486837 links to unshorten\n"
     ]
    },
    {
     "name": "stderr",
     "output_type": "stream",
     "text": [
      "  4%|▍         | 17/381 [05:46<2:03:41, 20.39s/it]"
     ]
    }
   ],
   "source": [
    "cache_file = f'/{data_directory}/processed_data/cache.json'\n",
    "resolved_urls = urlexpander.expand(links, \n",
    "#                                    filter_function=urlexpander.is_short,\n",
    "                                   n_workers=100,\n",
    "                                   chunksize=1280,\n",
    "                                   cache_file=cache_file,\n",
    "                                   verbose=1)"
   ]
  },
  {
   "cell_type": "code",
   "execution_count": 51,
   "metadata": {},
   "outputs": [
    {
     "data": {
      "text/plain": [
       "1700150"
      ]
     },
     "execution_count": 51,
     "metadata": {},
     "output_type": "execute_result"
    }
   ],
   "source": [
    "len(resolved_urls)"
   ]
  },
  {
   "cell_type": "code",
   "execution_count": 52,
   "metadata": {},
   "outputs": [],
   "source": [
    "df_links['link_resolved'] = resolved_urls\n",
    "df_links['link_resolved_domain'] = df_links['link_resolved'].apply(urlexpander.get_domain)"
   ]
  },
  {
   "cell_type": "code",
   "execution_count": 254,
   "metadata": {},
   "outputs": [],
   "source": [
    "df_links.to_csv(os.path.join(intermedia_directory, 'links_expanded_all.csv'), index=False)"
   ]
  },
  {
   "cell_type": "markdown",
   "metadata": {},
   "source": [
    "## Analytics"
   ]
  },
  {
   "cell_type": "code",
   "execution_count": null,
   "metadata": {},
   "outputs": [],
   "source": [
    "df_links = pd.read_csv(os.path.join(intermedia_directory, 'links_expanded_all.csv'))"
   ]
  },
  {
   "cell_type": "code",
   "execution_count": 54,
   "metadata": {},
   "outputs": [
    {
     "data": {
      "text/plain": [
       "twitter.com           255532\n",
       "house.gov             199218\n",
       "youtube.com            93986\n",
       "facebook.com           90061\n",
       "senate.gov             78645\n",
       "washingtonpost.com     29886\n",
       "instagram.com          28460\n",
       "nytimes.com            25014\n",
       "thehill.com            22925\n",
       "politico.com           13488\n",
       "foxnews.com            12045\n",
       "cnn.com                11611\n",
       "wsj.com                11289\n",
       "twimg.com               9633\n",
       "ow.ly                   9463\n",
       "Name: link_resolved_domain, dtype: int64"
      ]
     },
     "execution_count": 54,
     "metadata": {},
     "output_type": "execute_result"
    }
   ],
   "source": [
    "df_links['link_resolved_domain'].value_counts().head(15)"
   ]
  },
  {
   "cell_type": "code",
   "execution_count": 55,
   "metadata": {},
   "outputs": [],
   "source": [
    "exclude = ['youtube.com', 'twitter.com', 'fb.com', \n",
    "           'facebook.com', 'instagram.com', 'ow.ly', \n",
    "           'house.gov', 'senate.gov', 'usa.gov']"
   ]
  },
  {
   "cell_type": "code",
   "execution_count": 261,
   "metadata": {},
   "outputs": [],
   "source": [
    "count_matrix = urlexpander.tweet_utils.count_matrix(\n",
    "      df_links,\n",
    "      user_col='user_id',\n",
    "      domain_col='link_resolved_domain',\n",
    "      min_freq=20,\n",
    ").head(2)"
   ]
  },
  {
   "cell_type": "markdown",
   "metadata": {},
   "source": [
    "## Machine Learning"
   ]
  },
  {
   "cell_type": "code",
   "execution_count": 56,
   "metadata": {},
   "outputs": [],
   "source": [
    "pd.options.display.float_format = '{:,.0f}'.format"
   ]
  },
  {
   "cell_type": "code",
   "execution_count": 57,
   "metadata": {},
   "outputs": [],
   "source": [
    "%matplotlib inline\n",
    "import umap\n",
    "import matplotlib.pyplot as plt"
   ]
  },
  {
   "cell_type": "markdown",
   "metadata": {},
   "source": [
    "These files have the affiliation of each account."
   ]
  },
  {
   "cell_type": "code",
   "execution_count": 58,
   "metadata": {},
   "outputs": [],
   "source": [
    "meta_dir = '/scratch/olympus/projects/media_politician_list/google_sheet_archive'\n",
    "meta = []\n",
    "for f in glob.glob(f'{meta_dir}/*fulldata*.csv'):\n",
    "    _df = pd.read_csv(f)\n",
    "    _df = _df[~_df.twitter_id.isnull()]\n",
    "    meta.extend(_df.to_dict(orient='records'))"
   ]
  },
  {
   "cell_type": "code",
   "execution_count": 59,
   "metadata": {},
   "outputs": [],
   "source": [
    "df_meta = pd.DataFrame(meta)\n",
    "df_meta.twitter_id = df_meta.twitter_id.astype(float, errors='ignore').astype(str)\n",
    "df_links.user_id = df_links.user_id.astype(float, errors='ignore').astype(str)\n",
    "look_up = df_meta[df_meta['twitter_id'].isin(df_links.user_id)].drop_duplicates(subset=['twitter_id'])[['twitter_id', 'affiliation']]\n",
    "df_links_ = df_links[df_links.user_id.isin(look_up['twitter_id'])]"
   ]
  },
  {
   "cell_type": "code",
   "execution_count": 60,
   "metadata": {},
   "outputs": [
    {
     "data": {
      "text/plain": [
       "(971, 971)"
      ]
     },
     "execution_count": 60,
     "metadata": {},
     "output_type": "execute_result"
    }
   ],
   "source": [
    "len(df_links_.user_id.unique()), len(look_up)"
   ]
  },
  {
   "cell_type": "markdown",
   "metadata": {},
   "source": [
    "## Unsupervised Learning\n",
    "This will be an exploratory step, where we will try to visualze the dataset of counts of links shared by user. We will reduce the high-dimensional data (where each domain is one dimension) to two-dimensions for visualization using the [UMAP](https://umap-learn.readthedocs.io/en/latest/) algorithm (much like the populat [TSNE](http://scikit-learn.org/stable/modules/generated/sklearn.manifold.TSNE.html) algorithm)."
   ]
  },
  {
   "cell_type": "code",
   "execution_count": 193,
   "metadata": {},
   "outputs": [],
   "source": [
    "def color(party):\n",
    "    if party == 'Democrat':\n",
    "        return 'blue' \n",
    "    elif party == 'Republican':\n",
    "        return 'red'\n",
    "    else:\n",
    "        return 'gray'\n",
    "\n",
    "def viz_umap_embed(count_matrix, title=\"Members of Congress Embedded by UMAP\", threshold=5, **kwargs):\n",
    "    '''\n",
    "    Visualizes the count matrix in 2 dimensions using UMAP.\n",
    "    '''\n",
    "    if threshold:\n",
    "        count_matrix = count_matrix[count_matrix.sum(axis=1) >= threshold]\n",
    "    parties = look_up.set_index('twitter_id').loc[count_matrix.index].affiliation\n",
    "\n",
    "    embedding = umap.UMAP(n_components=2, **kwargs).fit_transform(count_matrix.values)\n",
    "\n",
    "    plt.figure(figsize=(14,8))\n",
    "    ax = plt.scatter(x = embedding[:,0], \n",
    "                     y = embedding[:,1],\n",
    "                     s = 100,\n",
    "                     c = parties.apply(color),\n",
    "                     alpha = .4)\n",
    "\n",
    "    plt.title(title)\n",
    "    plt.axis('off')\n",
    "    plt.show()"
   ]
  },
  {
   "cell_type": "code",
   "execution_count": 278,
   "metadata": {},
   "outputs": [],
   "source": [
    "count_matrix = urlexpander.tweet_utils.count_matrix(\n",
    "      df_links_,\n",
    "      user_col='user_id',\n",
    "      domain_col='link_resolved_domain',\n",
    "      min_freq=10,\n",
    "      exclude_domain_list=exclude,\n",
    ")"
   ]
  },
  {
   "cell_type": "code",
   "execution_count": 279,
   "metadata": {},
   "outputs": [
    {
     "data": {
      "text/html": [
       "<div>\n",
       "<style scoped>\n",
       "    .dataframe tbody tr th:only-of-type {\n",
       "        vertical-align: middle;\n",
       "    }\n",
       "\n",
       "    .dataframe tbody tr th {\n",
       "        vertical-align: top;\n",
       "    }\n",
       "\n",
       "    .dataframe thead th {\n",
       "        text-align: right;\n",
       "    }\n",
       "</style>\n",
       "<table border=\"1\" class=\"dataframe\">\n",
       "  <thead>\n",
       "    <tr style=\"text-align: right;\">\n",
       "      <th></th>\n",
       "      <th>frc.org</th>\n",
       "      <th>thehill.com</th>\n",
       "      <th>iheart.com</th>\n",
       "      <th>c-span.org</th>\n",
       "      <th>news9.com</th>\n",
       "      <th>speaker.gov</th>\n",
       "      <th>foxnews.com</th>\n",
       "      <th>frcaction.org</th>\n",
       "      <th>koco.com</th>\n",
       "      <th>okcfox.com</th>\n",
       "      <th>...</th>\n",
       "      <th>brendalawrence.com</th>\n",
       "      <th>cityofsouthfield.com</th>\n",
       "      <th>voteearlyflorida.com</th>\n",
       "      <th>lattaforcongress.com</th>\n",
       "      <th>mullinforcongress.com</th>\n",
       "      <th>barbaracomstockforcongress.com</th>\n",
       "      <th>tomreedforcongress.com</th>\n",
       "      <th>sincomillas.com</th>\n",
       "      <th>garretgravesforcongress.com</th>\n",
       "      <th>about.com</th>\n",
       "    </tr>\n",
       "    <tr>\n",
       "      <th>user_id</th>\n",
       "      <th></th>\n",
       "      <th></th>\n",
       "      <th></th>\n",
       "      <th></th>\n",
       "      <th></th>\n",
       "      <th></th>\n",
       "      <th></th>\n",
       "      <th></th>\n",
       "      <th></th>\n",
       "      <th></th>\n",
       "      <th></th>\n",
       "      <th></th>\n",
       "      <th></th>\n",
       "      <th></th>\n",
       "      <th></th>\n",
       "      <th></th>\n",
       "      <th></th>\n",
       "      <th></th>\n",
       "      <th></th>\n",
       "      <th></th>\n",
       "      <th></th>\n",
       "    </tr>\n",
       "  </thead>\n",
       "  <tbody>\n",
       "    <tr>\n",
       "      <th>1004855106.0</th>\n",
       "      <td>0</td>\n",
       "      <td>0</td>\n",
       "      <td>0</td>\n",
       "      <td>0</td>\n",
       "      <td>0</td>\n",
       "      <td>0</td>\n",
       "      <td>0</td>\n",
       "      <td>0</td>\n",
       "      <td>0</td>\n",
       "      <td>0</td>\n",
       "      <td>...</td>\n",
       "      <td>0</td>\n",
       "      <td>0</td>\n",
       "      <td>0</td>\n",
       "      <td>0</td>\n",
       "      <td>0</td>\n",
       "      <td>0</td>\n",
       "      <td>0</td>\n",
       "      <td>0</td>\n",
       "      <td>0</td>\n",
       "      <td>0</td>\n",
       "    </tr>\n",
       "    <tr>\n",
       "      <th>1009269193.0</th>\n",
       "      <td>0</td>\n",
       "      <td>12</td>\n",
       "      <td>0</td>\n",
       "      <td>16</td>\n",
       "      <td>0</td>\n",
       "      <td>2</td>\n",
       "      <td>1</td>\n",
       "      <td>0</td>\n",
       "      <td>0</td>\n",
       "      <td>0</td>\n",
       "      <td>...</td>\n",
       "      <td>0</td>\n",
       "      <td>0</td>\n",
       "      <td>0</td>\n",
       "      <td>0</td>\n",
       "      <td>0</td>\n",
       "      <td>0</td>\n",
       "      <td>0</td>\n",
       "      <td>0</td>\n",
       "      <td>0</td>\n",
       "      <td>0</td>\n",
       "    </tr>\n",
       "  </tbody>\n",
       "</table>\n",
       "<p>2 rows × 3593 columns</p>\n",
       "</div>"
      ],
      "text/plain": [
       "              frc.org  thehill.com  iheart.com  c-span.org  news9.com  \\\n",
       "user_id                                                                 \n",
       "1004855106.0        0            0           0           0          0   \n",
       "1009269193.0        0           12           0          16          0   \n",
       "\n",
       "              speaker.gov  foxnews.com  frcaction.org  koco.com  okcfox.com  \\\n",
       "user_id                                                                       \n",
       "1004855106.0            0            0              0         0           0   \n",
       "1009269193.0            2            1              0         0           0   \n",
       "\n",
       "                ...      brendalawrence.com  cityofsouthfield.com  \\\n",
       "user_id         ...                                                 \n",
       "1004855106.0    ...                       0                     0   \n",
       "1009269193.0    ...                       0                     0   \n",
       "\n",
       "              voteearlyflorida.com  lattaforcongress.com  \\\n",
       "user_id                                                    \n",
       "1004855106.0                     0                     0   \n",
       "1009269193.0                     0                     0   \n",
       "\n",
       "              mullinforcongress.com  barbaracomstockforcongress.com  \\\n",
       "user_id                                                               \n",
       "1004855106.0                      0                               0   \n",
       "1009269193.0                      0                               0   \n",
       "\n",
       "              tomreedforcongress.com  sincomillas.com  \\\n",
       "user_id                                                 \n",
       "1004855106.0                       0                0   \n",
       "1009269193.0                       0                0   \n",
       "\n",
       "              garretgravesforcongress.com  about.com  \n",
       "user_id                                               \n",
       "1004855106.0                            0          0  \n",
       "1009269193.0                            0          0  \n",
       "\n",
       "[2 rows x 3593 columns]"
      ]
     },
     "execution_count": 279,
     "metadata": {},
     "output_type": "execute_result"
    }
   ],
   "source": [
    "count_matrix.head(2)"
   ]
  },
  {
   "cell_type": "code",
   "execution_count": 300,
   "metadata": {},
   "outputs": [
    {
     "name": "stderr",
     "output_type": "stream",
     "text": [
      "/home/ly501/anaconda3/lib/python3.6/site-packages/sklearn/utils/validation.py:475: DataConversionWarning: Data with input dtype float32 was converted to bool by check_pairwise_arrays.\n",
      "  warnings.warn(msg, DataConversionWarning)\n"
     ]
    },
    {
     "data": {
      "image/png": "[encoded data removed]",
      "text/plain": [
       "<Figure size 1008x576 with 1 Axes>"
      ]
     },
     "metadata": {},
     "output_type": "display_data"
    }
   ],
   "source": [
    "viz_umap_embed(count_matrix, \n",
    "               title=\"Link Sharing of Members of Congress Embedded by UMAP\",\n",
    "               threshold=5,\n",
    "               # umap params\n",
    "               n_neighbors=50,\n",
    "               min_dist=0.1,\n",
    "               metric='dice',\n",
    "               random_state=303)"
   ]
  },
  {
   "cell_type": "markdown",
   "metadata": {},
   "source": [
    "## Supervised Learning\n",
    "In the unsupervised case, we already see Democrats and Republicans sectioned off. Here we will fit a [logistic regression](http://scikit-learn.org/stable/modules/generated/sklearn.linear_model.LogisticRegression.html) model to predict whether a congress member is a democrat or a republican based on the `count_matrix` we just created."
   ]
  },
  {
   "cell_type": "code",
   "execution_count": 202,
   "metadata": {},
   "outputs": [],
   "source": [
    "from sklearn.model_selection import train_test_split\n",
    "from sklearn.linear_model import LogisticRegression"
   ]
  },
  {
   "cell_type": "code",
   "execution_count": 203,
   "metadata": {},
   "outputs": [
    {
     "data": {
      "text/plain": [
       "(867, 97)"
      ]
     },
     "execution_count": 203,
     "metadata": {},
     "output_type": "execute_result"
    }
   ],
   "source": [
    "# filter out independents, and accounts that sent less than one link!\n",
    "dems_repubs = look_up[look_up.affiliation != 'Independent'].twitter_id\n",
    "count_matrix_ = count_matrix[(count_matrix.index.isin(dems_repubs)) &\n",
    "                             (count_matrix.sum(axis=1) >= 1)]\n",
    "parties = look_up.set_index('twitter_id').loc[count_matrix_.index].affiliation\n",
    "\n",
    "# create the training set\n",
    "X, y = count_matrix_.values, parties\n",
    "X_train, X_test, y_train, y_test = train_test_split(X, y, random_state=303, test_size=.1)\n",
    "len(X_train), len(X_test) "
   ]
  },
  {
   "cell_type": "code",
   "execution_count": 277,
   "metadata": {},
   "outputs": [
    {
     "data": {
      "text/plain": [
       "0.9587628865979382"
      ]
     },
     "execution_count": 277,
     "metadata": {},
     "output_type": "execute_result"
    }
   ],
   "source": [
    "logreg = LogisticRegression(penalty='l2', C=.75,\n",
    "                            solver='liblinear',\n",
    "                            random_state=303)\n",
    "logreg.fit(X_train, y_train)\n",
    "logreg.score(X_test, y_test)"
   ]
  },
  {
   "cell_type": "markdown",
   "metadata": {},
   "source": [
    "## Evaluation"
   ]
  },
  {
   "cell_type": "code",
   "execution_count": 205,
   "metadata": {},
   "outputs": [],
   "source": [
    "import numpy as np\n",
    "from sklearn.metrics import confusion_matrix"
   ]
  },
  {
   "cell_type": "code",
   "execution_count": 206,
   "metadata": {},
   "outputs": [],
   "source": [
    "def plot_confusion_matrix(cm, classes,\n",
    "                          normalize=False,\n",
    "                          title='Confusion matrix',\n",
    "                          cmap=plt.cm.Blues):\n",
    "    \"\"\"\n",
    "    This function prints and plots the confusion matrix.\n",
    "    Normalization can be applied by setting `normalize=True`.\n",
    "    \"\"\"\n",
    "    if normalize:\n",
    "        cm = cm.astype('float') / cm.sum(axis=1)[:, np.newaxis]\n",
    "        print(\"Normalized confusion matrix\")\n",
    "    else:\n",
    "        print('Confusion matrix, without normalization')\n",
    "\n",
    "    print(cm)\n",
    "\n",
    "    plt.imshow(cm, interpolation='nearest', cmap=cmap)\n",
    "    plt.title(title)\n",
    "    plt.colorbar()\n",
    "    tick_marks = np.arange(len(classes))\n",
    "    plt.xticks(tick_marks, classes, rotation=45)\n",
    "    plt.yticks(tick_marks, classes)\n",
    "\n",
    "    fmt = '.2f' if normalize else 'd'\n",
    "    thresh = cm.max() / 2.\n",
    "    for i, j in itertools.product(range(cm.shape[0]), range(cm.shape[1])):\n",
    "        plt.text(j, i, format(cm[i, j], fmt),\n",
    "                 horizontalalignment=\"center\",\n",
    "                 color=\"white\" if cm[i, j] > thresh else \"black\")\n",
    "\n",
    "    plt.ylabel('True label')\n",
    "    plt.xlabel('Predicted label')\n",
    "    plt.tight_layout()"
   ]
  },
  {
   "cell_type": "code",
   "execution_count": 207,
   "metadata": {},
   "outputs": [
    {
     "name": "stdout",
     "output_type": "stream",
     "text": [
      "Confusion matrix, without normalization\n",
      "[[43  3]\n",
      " [ 1 50]]\n",
      "Normalized confusion matrix\n",
      "[[0.93 0.07]\n",
      " [0.02 0.98]]\n"
     ]
    },
    {
     "data": {
      "image/png": "[encoded data removed]",
      "text/plain": [
       "<Figure size 432x288 with 2 Axes>"
      ]
     },
     "metadata": {},
     "output_type": "display_data"
    },
    {
     "data": {
      "image/png": "[encoded data removed]",
      "text/plain": [
       "<Figure size 432x288 with 2 Axes>"
      ]
     },
     "metadata": {},
     "output_type": "display_data"
    }
   ],
   "source": [
    "y_pred = logreg.predict(X_test)\n",
    "class_names = logreg.classes_\n",
    "\n",
    "# Compute confusion matrix\n",
    "cnf_matrix = confusion_matrix(y_test, y_pred)\n",
    "np.set_printoptions(precision=2)\n",
    "\n",
    "# Plot non-normalized confusion matrix\n",
    "plt.figure()\n",
    "plot_confusion_matrix(cnf_matrix, classes=class_names,\n",
    "                      title='Confusion matrix, without normalization')\n",
    "\n",
    "# Plot normalized confusion matrix\n",
    "plt.figure()\n",
    "plot_confusion_matrix(cnf_matrix, classes=class_names, normalize=True,\n",
    "                      title='Normalized confusion matrix')\n",
    "\n",
    "plt.show()"
   ]
  },
  {
   "cell_type": "code",
   "execution_count": 132,
   "metadata": {},
   "outputs": [
    {
     "data": {
      "text/html": [
       "<div>\n",
       "<style scoped>\n",
       "    .dataframe tbody tr th:only-of-type {\n",
       "        vertical-align: middle;\n",
       "    }\n",
       "\n",
       "    .dataframe tbody tr th {\n",
       "        vertical-align: top;\n",
       "    }\n",
       "\n",
       "    .dataframe thead th {\n",
       "        text-align: right;\n",
       "    }\n",
       "</style>\n",
       "<table border=\"1\" class=\"dataframe\">\n",
       "  <thead>\n",
       "    <tr style=\"text-align: right;\">\n",
       "      <th></th>\n",
       "      <th>twitter_name</th>\n",
       "    </tr>\n",
       "    <tr>\n",
       "      <th>twitter_id</th>\n",
       "      <th></th>\n",
       "    </tr>\n",
       "  </thead>\n",
       "  <tbody>\n",
       "    <tr>\n",
       "      <th>555355209.0</th>\n",
       "      <td>NelsonForSenate</td>\n",
       "    </tr>\n",
       "    <tr>\n",
       "      <th>9.410800851211756e+17</th>\n",
       "      <td>SenDougJones</td>\n",
       "    </tr>\n",
       "    <tr>\n",
       "      <th>18061669.0</th>\n",
       "      <td>LisaMurkowski</td>\n",
       "    </tr>\n",
       "    <tr>\n",
       "      <th>322013313.0</th>\n",
       "      <td>LuisGutierrez</td>\n",
       "    </tr>\n",
       "    <tr>\n",
       "      <th>84129740.0</th>\n",
       "      <td>JoeLieberman</td>\n",
       "    </tr>\n",
       "  </tbody>\n",
       "</table>\n",
       "</div>"
      ],
      "text/plain": [
       "                          twitter_name\n",
       "twitter_id                            \n",
       "555355209.0            NelsonForSenate\n",
       "9.410800851211756e+17     SenDougJones\n",
       "18061669.0               LisaMurkowski\n",
       "322013313.0              LuisGutierrez\n",
       "84129740.0                JoeLieberman"
      ]
     },
     "execution_count": 132,
     "metadata": {},
     "output_type": "execute_result"
    }
   ],
   "source": [
    "# these are what we got wrong!\n",
    "df_meta.set_index('twitter_id').loc[\n",
    "    y_test[y_test != y_pred].index\n",
    "][['twitter_name']]"
   ]
  },
  {
   "cell_type": "code",
   "execution_count": 106,
   "metadata": {},
   "outputs": [],
   "source": [
    "indep = look_up[look_up.affiliation == 'Independent'].twitter_id\n",
    "count_matrix_indep_ = count_matrix[(count_matrix.index.isin(indep)) &\n",
    "                                   (count_matrix.sum(axis=1) >= 2)]"
   ]
  },
  {
   "cell_type": "code",
   "execution_count": 155,
   "metadata": {},
   "outputs": [
    {
     "data": {
      "text/html": [
       "<div>\n",
       "<style scoped>\n",
       "    .dataframe tbody tr th:only-of-type {\n",
       "        vertical-align: middle;\n",
       "    }\n",
       "\n",
       "    .dataframe tbody tr th {\n",
       "        vertical-align: top;\n",
       "    }\n",
       "\n",
       "    .dataframe thead th {\n",
       "        text-align: right;\n",
       "    }\n",
       "</style>\n",
       "<table border=\"1\" class=\"dataframe\">\n",
       "  <thead>\n",
       "    <tr style=\"text-align: right;\">\n",
       "      <th></th>\n",
       "      <th>twitter_name</th>\n",
       "      <th>preds</th>\n",
       "    </tr>\n",
       "    <tr>\n",
       "      <th>twitter_id</th>\n",
       "      <th></th>\n",
       "      <th></th>\n",
       "    </tr>\n",
       "  </thead>\n",
       "  <tbody>\n",
       "    <tr>\n",
       "      <th>1068481578.0</th>\n",
       "      <td>SenAngusKing</td>\n",
       "      <td>Republican</td>\n",
       "    </tr>\n",
       "    <tr>\n",
       "      <th>216776631.0</th>\n",
       "      <td>BernieSanders</td>\n",
       "      <td>Democrat</td>\n",
       "    </tr>\n",
       "    <tr>\n",
       "      <th>2915095729.0</th>\n",
       "      <td>AkGovBillWalker</td>\n",
       "      <td>Republican</td>\n",
       "    </tr>\n",
       "    <tr>\n",
       "      <th>29442313.0</th>\n",
       "      <td>SenSanders</td>\n",
       "      <td>Democrat</td>\n",
       "    </tr>\n",
       "    <tr>\n",
       "      <th>3196634042.0</th>\n",
       "      <td>GovernorMapp</td>\n",
       "      <td>Republican</td>\n",
       "    </tr>\n",
       "  </tbody>\n",
       "</table>\n",
       "</div>"
      ],
      "text/plain": [
       "                 twitter_name       preds\n",
       "twitter_id                               \n",
       "1068481578.0     SenAngusKing  Republican\n",
       "216776631.0     BernieSanders    Democrat\n",
       "2915095729.0  AkGovBillWalker  Republican\n",
       "29442313.0         SenSanders    Democrat\n",
       "3196634042.0     GovernorMapp  Republican"
      ]
     },
     "execution_count": 155,
     "metadata": {},
     "output_type": "execute_result"
    }
   ],
   "source": [
    "df_ind = df_meta.set_index('twitter_id').loc[count_matrix_indep_.index][['twitter_name']]\n",
    "df_ind['preds'] = logreg.predict(count_matrix_indep_)\n",
    "df_ind"
   ]
  },
  {
   "cell_type": "markdown",
   "metadata": {},
   "source": [
    "## News"
   ]
  },
  {
   "cell_type": "code",
   "execution_count": null,
   "metadata": {},
   "outputs": [],
   "source": [
    "us_media = urlexpander.datasets.load_us_national_media_outlets()"
   ]
  },
  {
   "cell_type": "code",
   "execution_count": null,
   "metadata": {},
   "outputs": [],
   "source": [
    "count_matrix_news = urlexpander.tweet_utils.count_matrix(\n",
    "      df_links_,\n",
    "      user_col='user_id',\n",
    "      domain_col='link_resolved_domain',\n",
    "      domain_list=us_media.tolist(),\n",
    ")"
   ]
  },
  {
   "cell_type": "code",
   "execution_count": null,
   "metadata": {},
   "outputs": [],
   "source": [
    "viz_umap_embed(count_matrix_news, \n",
    "               threshold=5,\n",
    "               # umap args\n",
    "               n_neighbors=50,\n",
    "               min_dist=0.1,\n",
    "               random_state=303,\n",
    "               metric='dice',\n",
    "               title='News Links Shared by Memebers of Congress Embedded by UMAP')"
   ]
  },
  {
   "cell_type": "code",
   "execution_count": null,
   "metadata": {},
   "outputs": [],
   "source": [
    "count_matrix_news_ = count_matrix_news[(count_matrix_news.index.isin(dems_repubs)) &\n",
    "                                       (count_matrix_news.sum(axis=1) >= 5)]\n",
    "    \n",
    "parties = look_up.set_index('twitter_id').loc[count_matrix_news_.index].affiliation\n",
    "# is_dem = parties == 'Democrat'\n",
    "\n",
    "X, y = count_matrix_news_.values, parties\n",
    "X_train, X_test, y_train, y_test = train_test_split(X, y, random_state=303)\n",
    "len(X_train), len(X_test) "
   ]
  },
  {
   "cell_type": "code",
   "execution_count": null,
   "metadata": {},
   "outputs": [],
   "source": [
    "logreg = LogisticRegression(penalty='l1', C=.7, multi_class='ovr')\n",
    "logreg.fit(X_train, y_train)\n",
    "logreg.score(X_test, y_test)"
   ]
  },
  {
   "cell_type": "code",
   "execution_count": null,
   "metadata": {},
   "outputs": [],
   "source": [
    "forest = RandomForestClassifier(n_estimators=100, n_jobs=-1)\n",
    "forest.fit(X_train, y_train)\n",
    "forest.score(X_test, y_test)"
   ]
  },
  {
   "cell_type": "code",
   "execution_count": null,
   "metadata": {},
   "outputs": [],
   "source": []
  }
 ],
 "metadata": {
  "kernelspec": {
   "display_name": "Python 3",
   "language": "python",
   "name": "python3"
  },
  "language_info": {
   "codemirror_mode": {
    "name": "ipython",
    "version": 3
   },
   "file_extension": ".py",
   "mimetype": "text/x-python",
   "name": "python",
   "nbconvert_exporter": "python",
   "pygments_lexer": "ipython3",
   "version": "3.6.5"
  }
 },
 "nbformat": 4,
 "nbformat_minor": 2
}
